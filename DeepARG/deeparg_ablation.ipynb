{
 "cells": [
  {
   "cell_type": "code",
   "execution_count": null,
   "metadata": {},
   "outputs": [],
   "source": [
    "import pandas as pd\n",
    "import numpy as np\n",
    "from sklearn.model_selection import train_test_split, StratifiedKFold\n",
    "from sklearn.preprocessing import MinMaxScaler, LabelEncoder\n",
    "from sklearn.metrics import f1_score\n",
    "import torch\n",
    "import torch.nn as nn\n",
    "import torch.optim as optim\n",
    "from torch.utils.data import DataLoader, TensorDataset\n",
    "from Bio import SeqIO\n",
    "from Bio.Seq import Seq\n",
    "from Bio.SeqRecord import SeqRecord"
   ]
  },
  {
   "cell_type": "markdown",
   "metadata": {},
   "source": [
    "Data prep"
   ]
  },
  {
   "cell_type": "code",
   "execution_count": 2,
   "metadata": {},
   "outputs": [],
   "source": [
    "def fasta_to_dataframe(fasta_file):\n",
    "    records = []\n",
    "    for record in SeqIO.parse(fasta_file, \"fasta\"):\n",
    "        records.append({\"id\": record.id.split('|')[0]\n",
    "                        , \"db\": record.id.split('|')[2]\n",
    "                        , \"type\": record.id.split('|')[3]\n",
    "                        , \"sequence\": str(record.seq)})\n",
    "    return pd.DataFrame(records)\n",
    "\n",
    "data = fasta_to_dataframe(\"../data/database/v1/features.fasta\")"
   ]
  },
  {
   "cell_type": "code",
   "execution_count": 3,
   "metadata": {},
   "outputs": [],
   "source": [
    "uniprot_data = data[data['db'] == 'UNIPROT']\n",
    "card_ardb_data = data[data['db'].isin(['CARD', 'ARDB'])]"
   ]
  },
  {
   "cell_type": "code",
   "execution_count": 4,
   "metadata": {},
   "outputs": [],
   "source": [
    "def generate_feature_matrix(scoring_path, query_df, reference_df):\n",
    "    # Extract all unique query and target IDs\n",
    "    query_ids = [f\"{row.id}_{row.type}\" for _, row in query_df.iterrows()]\n",
    "    target_ids = [f\"{row.id}_{row.type}\" for _, row in reference_df.iterrows()]\n",
    "\n",
    "    # Initialize a dictionary to hold scores with 0s for all query-target pairs\n",
    "    scores_dict = {query_id: {target_id: 0.0 for target_id in target_ids} for query_id in query_ids}\n",
    "\n",
    "    # Populate the scores_dict with bit scores from DIAMOND output\n",
    "    with open(scoring_path) as f:\n",
    "        for line in f:\n",
    "            query_id, subject_id, identity, alignment_length, mismatches, gap_opens, q_start, q_end, s_start, s_end, evalue, bit_score = line.strip().split()\n",
    "            if query_id in scores_dict and subject_id in scores_dict[query_id]:\n",
    "                scores_dict[query_id][subject_id] = float(bit_score)\n",
    "    \n",
    "    # Convert scores_dict to a feature matrix\n",
    "    all_scores = []\n",
    "    for query_id in query_ids:\n",
    "        # Each row is a list of bit scores for the current query against each target in the reference\n",
    "        scores = [scores_dict[query_id][target_id] for target_id in target_ids]\n",
    "        all_scores.append(scores)\n",
    "    \n",
    "    # Convert to numpy array for matrix operations\n",
    "    feature_matrix = np.array(all_scores)\n",
    "\n",
    "    # Normalize the matrix\n",
    "    scaler = MinMaxScaler()\n",
    "    normalized_features = scaler.fit_transform(feature_matrix)\n",
    "    \n",
    "    return normalized_features"
   ]
  },
  {
   "cell_type": "code",
   "execution_count": 5,
   "metadata": {},
   "outputs": [],
   "source": [
    "feature_matrix = generate_feature_matrix('out.tsv', uniprot_data, card_ardb_data)\n"
   ]
  },
  {
   "cell_type": "code",
   "execution_count": 6,
   "metadata": {},
   "outputs": [],
   "source": [
    "X_train, X_val, y_train, y_val = train_test_split(feature_matrix, uniprot_data['type'], test_size=0.3, random_state=42)"
   ]
  },
  {
   "cell_type": "code",
   "execution_count": 7,
   "metadata": {},
   "outputs": [],
   "source": [
    "label_encoder = LabelEncoder()\n",
    "y_train_encoded = label_encoder.fit_transform(y_train) \n",
    "y_val_encoded = label_encoder.transform(y_val)"
   ]
  },
  {
   "cell_type": "code",
   "execution_count": 8,
   "metadata": {},
   "outputs": [],
   "source": [
    "from sklearn.linear_model import LogisticRegression\n",
    "from sklearn.metrics import classification_report, accuracy_score"
   ]
  },
  {
   "cell_type": "markdown",
   "metadata": {},
   "source": [
    "Run single logistic regression on training data, no CV"
   ]
  },
  {
   "cell_type": "code",
   "execution_count": 9,
   "metadata": {},
   "outputs": [
    {
     "name": "stdout",
     "output_type": "stream",
     "text": [
      "Validation Accuracy: 0.9925\n",
      "Classification Report:\n",
      "\n",
      "                                     precision    recall  f1-score   support\n",
      "\n",
      "                     aminoglycoside       1.00      0.99      0.99       156\n",
      "                         bacitracin       1.00      1.00      1.00      1206\n",
      "                        beta_lactam       1.00      1.00      1.00      1071\n",
      "                    chloramphenicol       1.00      0.98      0.99       122\n",
      "                         fosfomycin       1.00      1.00      1.00        68\n",
      "                       glycopeptide       0.00      0.00      0.00         9\n",
      "macrolide-lincosamide-streptogramin       0.91      1.00      0.96       258\n",
      "                          multidrug       1.00      0.96      0.98        47\n",
      "                          mupirocin       0.00      0.00      0.00         1\n",
      "                          polymyxin       1.00      1.00      1.00       246\n",
      "                          quinolone       0.00      0.00      0.00         1\n",
      "                       tetracycline       0.00      0.00      0.00         1\n",
      "\n",
      "                           accuracy                           0.99      3186\n",
      "                          macro avg       0.66      0.66      0.66      3186\n",
      "                       weighted avg       0.99      0.99      0.99      3186\n",
      "\n"
     ]
    },
    {
     "name": "stderr",
     "output_type": "stream",
     "text": [
      "/opt/anaconda3/lib/python3.12/site-packages/sklearn/metrics/_classification.py:1531: UndefinedMetricWarning: Precision is ill-defined and being set to 0.0 in labels with no predicted samples. Use `zero_division` parameter to control this behavior.\n",
      "  _warn_prf(average, modifier, f\"{metric.capitalize()} is\", len(result))\n",
      "/opt/anaconda3/lib/python3.12/site-packages/sklearn/metrics/_classification.py:1531: UndefinedMetricWarning: Precision is ill-defined and being set to 0.0 in labels with no predicted samples. Use `zero_division` parameter to control this behavior.\n",
      "  _warn_prf(average, modifier, f\"{metric.capitalize()} is\", len(result))\n",
      "/opt/anaconda3/lib/python3.12/site-packages/sklearn/metrics/_classification.py:1531: UndefinedMetricWarning: Precision is ill-defined and being set to 0.0 in labels with no predicted samples. Use `zero_division` parameter to control this behavior.\n",
      "  _warn_prf(average, modifier, f\"{metric.capitalize()} is\", len(result))\n"
     ]
    }
   ],
   "source": [
    "logistic_model = LogisticRegression(max_iter=1000, random_state=42)\n",
    "\n",
    "# Train the model on the training data\n",
    "logistic_model.fit(X_train, y_train_encoded)\n",
    "\n",
    "# Make predictions on the validation set\n",
    "y_val_pred = logistic_model.predict(X_val)\n",
    "\n",
    "# Evaluate the model\n",
    "accuracy = accuracy_score(y_val_encoded, y_val_pred)\n",
    "print(f\"Validation Accuracy: {accuracy:.4f}\")\n",
    "\n",
    "present_classes = sorted(set(y_val_encoded))\n",
    "\n",
    "# Generate the classification report\n",
    "class_report = classification_report(\n",
    "    y_val_encoded, \n",
    "    y_val_pred, \n",
    "    labels=present_classes, \n",
    "    target_names=label_encoder.inverse_transform(present_classes)\n",
    ")\n",
    "print(\"Classification Report:\\n\")\n",
    "print(class_report)"
   ]
  },
  {
   "cell_type": "markdown",
   "metadata": {},
   "source": [
    "Feature weights track with what you expect"
   ]
  },
  {
   "cell_type": "code",
   "execution_count": 34,
   "metadata": {},
   "outputs": [
    {
     "name": "stdout",
     "output_type": "stream",
     "text": [
      "Top positive weights for 'bacitracin':\n",
      "              Feature    arg_type  Coefficient\n",
      "1312  bacitracin_1312  bacitracin     0.313136\n",
      "1625  bacitracin_1625  bacitracin     0.300130\n",
      "3057  bacitracin_3057  bacitracin     0.299529\n",
      "1582  bacitracin_1582  bacitracin     0.298782\n",
      "302    bacitracin_302  bacitracin     0.289606\n",
      "1593  bacitracin_1593  bacitracin     0.284403\n",
      "2256  bacitracin_2256  bacitracin     0.282740\n",
      "1313  bacitracin_1313  bacitracin     0.278951\n",
      "2357  bacitracin_2357  bacitracin     0.278115\n",
      "1483  bacitracin_1483  bacitracin     0.276539\n",
      "3630  bacitracin_3630  bacitracin     0.276062\n",
      "1470  bacitracin_1470  bacitracin     0.275800\n",
      "3546  bacitracin_3546  bacitracin     0.275439\n",
      "128    bacitracin_128  bacitracin     0.274780\n",
      "3495  bacitracin_3495  bacitracin     0.272342\n",
      "1651  bacitracin_1651  bacitracin     0.272140\n",
      "1014  bacitracin_1014  bacitracin     0.269386\n",
      "2776  bacitracin_2776  bacitracin     0.268890\n",
      "1324  bacitracin_1324  bacitracin     0.268694\n",
      "527    bacitracin_527  bacitracin     0.268490\n",
      "\n",
      "Top negative weights for 'bacitracin':\n",
      "                                     Feature  \\\n",
      "3060                     aminoglycoside_3060   \n",
      "33                         aminoglycoside_33   \n",
      "802                       aminoglycoside_802   \n",
      "2130                     aminoglycoside_2130   \n",
      "599                            multidrug_599   \n",
      "59                              multidrug_59   \n",
      "2284                          multidrug_2284   \n",
      "82    macrolide-lincosamide-streptogramin_82   \n",
      "510                            multidrug_510   \n",
      "3301                          polymyxin_3301   \n",
      "\n",
      "                                 arg_type  Coefficient  \n",
      "3060                       aminoglycoside    -0.021582  \n",
      "33                         aminoglycoside    -0.021907  \n",
      "802                        aminoglycoside    -0.026421  \n",
      "2130                       aminoglycoside    -0.035268  \n",
      "599                             multidrug    -0.035896  \n",
      "59                              multidrug    -0.037567  \n",
      "2284                            multidrug    -0.039491  \n",
      "82    macrolide-lincosamide-streptogramin    -0.042229  \n",
      "510                             multidrug    -0.051826  \n",
      "3301                            polymyxin    -0.170999  \n"
     ]
    }
   ],
   "source": [
    "bacitracin_index = list(label_encoder.classes_).index('bacitracin')\n",
    "coefficients = logistic_model.coef_[bacitracin_index]\n",
    "\n",
    "feature_weights = pd.DataFrame({\n",
    "    \"Feature\": [f\"{name}_{i}\" for i,name in enumerate(card_ardb_data.type.values)],  # Replace with actual feature names if available\n",
    "    'arg_type':[name for i,name in enumerate(card_ardb_data.type.values)],\n",
    "    \"Coefficient\": coefficients\n",
    "}).sort_values(by=\"Coefficient\", ascending=False)\n",
    "\n",
    "# Display the top positive and negative weights\n",
    "print(\"Top positive weights for 'bacitracin':\")\n",
    "print(feature_weights.head(20))\n",
    "\n",
    "print(\"\\nTop negative weights for 'bacitracin':\")\n",
    "print(feature_weights.tail(10))"
   ]
  },
  {
   "cell_type": "code",
   "execution_count": 35,
   "metadata": {},
   "outputs": [
    {
     "data": {
      "text/plain": [
       "0.19577667367490856"
      ]
     },
     "execution_count": 35,
     "metadata": {},
     "output_type": "execute_result"
    }
   ],
   "source": [
    "feature_weights[feature_weights['arg_type'] == 'bacitracin'].Coefficient.mean()"
   ]
  },
  {
   "cell_type": "code",
   "execution_count": 36,
   "metadata": {},
   "outputs": [
    {
     "data": {
      "text/plain": [
       "-0.0025781555416145934"
      ]
     },
     "execution_count": 36,
     "metadata": {},
     "output_type": "execute_result"
    }
   ],
   "source": [
    "feature_weights[feature_weights['arg_type'] != 'bacitracin'].Coefficient.mean()"
   ]
  },
  {
   "cell_type": "code",
   "execution_count": 25,
   "metadata": {},
   "outputs": [
    {
     "name": "stdout",
     "output_type": "stream",
     "text": [
      "Top positive weights for 'beta_lactam':\n",
      "               Feature     arg_type  Coefficient\n",
      "11      beta_lactam_11  beta_lactam     0.756679\n",
      "2993  beta_lactam_2993  beta_lactam     0.674931\n",
      "1591  beta_lactam_1591  beta_lactam     0.674307\n",
      "1668  beta_lactam_1668  beta_lactam     0.672002\n",
      "3353  beta_lactam_3353  beta_lactam     0.659623\n",
      "2891  beta_lactam_2891  beta_lactam     0.476856\n",
      "970    beta_lactam_970  beta_lactam     0.471357\n",
      "869    beta_lactam_869  beta_lactam     0.471275\n",
      "1109  beta_lactam_1109  beta_lactam     0.469572\n",
      "3279  beta_lactam_3279  beta_lactam     0.469572\n",
      "2621  beta_lactam_2621  beta_lactam     0.443920\n",
      "3713  beta_lactam_3713  beta_lactam     0.437421\n",
      "3014  beta_lactam_3014  beta_lactam     0.429227\n",
      "1896  beta_lactam_1896  beta_lactam     0.426277\n",
      "182    beta_lactam_182  beta_lactam     0.417296\n",
      "2110  beta_lactam_2110  beta_lactam     0.416372\n",
      "3766  beta_lactam_3766  beta_lactam     0.411353\n",
      "1578  beta_lactam_1578  beta_lactam     0.358287\n",
      "328    beta_lactam_328  beta_lactam     0.340726\n",
      "214    beta_lactam_214  beta_lactam     0.338363\n",
      "\n",
      "Top negative weights for 'beta_lactam':\n",
      "                                       Feature  \\\n",
      "2130                       aminoglycoside_2130   \n",
      "1031  macrolide-lincosamide-streptogramin_1031   \n",
      "3885  macrolide-lincosamide-streptogramin_3885   \n",
      "820                              mupirocin_820   \n",
      "599                              multidrug_599   \n",
      "59                                multidrug_59   \n",
      "2284                            multidrug_2284   \n",
      "510                              multidrug_510   \n",
      "82      macrolide-lincosamide-streptogramin_82   \n",
      "3301                            polymyxin_3301   \n",
      "\n",
      "                                 arg_type  Coefficient  \n",
      "2130                       aminoglycoside    -0.105505  \n",
      "1031  macrolide-lincosamide-streptogramin    -0.111403  \n",
      "3885  macrolide-lincosamide-streptogramin    -0.111403  \n",
      "820                             mupirocin    -0.112086  \n",
      "599                             multidrug    -0.148327  \n",
      "59                              multidrug    -0.155164  \n",
      "2284                            multidrug    -0.162396  \n",
      "510                             multidrug    -0.214773  \n",
      "82    macrolide-lincosamide-streptogramin    -0.239562  \n",
      "3301                            polymyxin    -0.658601  \n"
     ]
    }
   ],
   "source": [
    "beta_lactam_index = list(label_encoder.classes_).index('beta_lactam')\n",
    "coefficients = logistic_model.coef_[beta_lactam_index]\n",
    "\n",
    "feature_weights = pd.DataFrame({\n",
    "    \"Feature\": [f\"{name}_{i}\" for i,name in enumerate(card_ardb_data.type.values)],  # Replace with actual feature names if available\n",
    "    'arg_type':[name for i,name in enumerate(card_ardb_data.type.values)],\n",
    "    \"Coefficient\": coefficients\n",
    "}).sort_values(by=\"Coefficient\", ascending=False)\n",
    "\n",
    "# Display the top positive and negative weights\n",
    "print(\"Top positive weights for 'beta_lactam':\")\n",
    "print(feature_weights.head(20))\n",
    "\n",
    "print(\"\\nTop negative weights for 'beta_lactam':\")\n",
    "print(feature_weights.tail(10))"
   ]
  },
  {
   "cell_type": "code",
   "execution_count": 27,
   "metadata": {},
   "outputs": [
    {
     "data": {
      "text/plain": [
       "0.09147049442144657"
      ]
     },
     "execution_count": 27,
     "metadata": {},
     "output_type": "execute_result"
    }
   ],
   "source": [
    "feature_weights[feature_weights['arg_type'] == 'beta_lactam'].Coefficient.mean()"
   ]
  },
  {
   "cell_type": "code",
   "execution_count": 28,
   "metadata": {},
   "outputs": [
    {
     "data": {
      "text/plain": [
       "-0.009917753953551605"
      ]
     },
     "execution_count": 28,
     "metadata": {},
     "output_type": "execute_result"
    }
   ],
   "source": [
    "feature_weights[feature_weights['arg_type'] != 'beta_lactam'].Coefficient.mean()"
   ]
  },
  {
   "cell_type": "markdown",
   "metadata": {},
   "source": [
    "# Repeat for short reads model"
   ]
  },
  {
   "cell_type": "code",
   "execution_count": 24,
   "metadata": {},
   "outputs": [],
   "source": [
    "def split_to_short_reads(fasta_file, output_file, read_length=33):\n",
    "    short_reads = []\n",
    "    read_ids = []\n",
    "    types = []\n",
    "    for record in SeqIO.parse(fasta_file, \"fasta\"):\n",
    "        sequence = str(record.seq)\n",
    "        arg_type = '_'.join(record.id.split('_')[1:])\n",
    "        # Generate short reads\n",
    "        for i in range(0, len(sequence), read_length):\n",
    "            if i + read_length <= len(sequence):  # Ensure we don't exceed the sequence length\n",
    "                short_read = Seq(sequence[i:i + read_length])\n",
    "                read_id = f\"{record.id}_pos_{i}\"\n",
    "                short_reads.append(SeqRecord(short_read, id=read_id, description=\"\"))\n",
    "                read_ids.append(read_id)\n",
    "                types.append(arg_type)\n",
    "\n",
    "    # Write the short reads to a new fasta file\n",
    "    SeqIO.write(short_reads, output_file, \"fasta\")\n",
    "    return short_reads,read_ids,types"
   ]
  },
  {
   "cell_type": "code",
   "execution_count": 27,
   "metadata": {},
   "outputs": [],
   "source": [
    "input_fasta = \"uniprot_sequences.fasta\"\n",
    "output_fasta = \"short_reads.fasta\"\n",
    "short_reads,read_ids,types = split_to_short_reads(input_fasta, output_fasta)"
   ]
  },
  {
   "cell_type": "code",
   "execution_count": 28,
   "metadata": {},
   "outputs": [],
   "source": [
    "import pickle\n",
    "with open('feature_matrix.pkl', 'rb') as handle:\n",
    "    feature_matrix = pickle.load(handle)"
   ]
  },
  {
   "cell_type": "code",
   "execution_count": 29,
   "metadata": {},
   "outputs": [],
   "source": [
    "X_train, X_test, y_train, y_test = train_test_split(feature_matrix, types, test_size=0.3, random_state=42)"
   ]
  },
  {
   "cell_type": "code",
   "execution_count": 30,
   "metadata": {},
   "outputs": [],
   "source": [
    "label_encoder = LabelEncoder()\n",
    "y_train_encoded = label_encoder.fit_transform(y_train) \n",
    "y_test_encoded = label_encoder.transform(y_test)"
   ]
  },
  {
   "cell_type": "code",
   "execution_count": 31,
   "metadata": {},
   "outputs": [
    {
     "name": "stdout",
     "output_type": "stream",
     "text": [
      "Validation Accuracy: 0.7982\n",
      "Classification Report:\n",
      "\n",
      "                                     precision    recall  f1-score   support\n",
      "\n",
      "                     aminoglycoside       1.00      0.68      0.81      1063\n",
      "                         bacitracin       0.61      1.00      0.76      9402\n",
      "                        beta_lactam       1.00      0.77      0.87      9510\n",
      "                    chloramphenicol       1.00      0.65      0.79       678\n",
      "                         fosfomycin       1.00      0.79      0.89       292\n",
      "                       fosmidomycin       1.00      1.00      1.00         3\n",
      "                       glycopeptide       1.00      0.04      0.07        78\n",
      "macrolide-lincosamide-streptogramin       1.00      0.47      0.64      4324\n",
      "                          multidrug       1.00      0.79      0.88       585\n",
      "                          mupirocin       1.00      0.13      0.23        39\n",
      "                          polymyxin       1.00      0.82      0.90      3790\n",
      "                          quinolone       0.00      0.00      0.00         2\n",
      "                       tetracycline       1.00      0.33      0.50         6\n",
      "                       trimethoprim       0.00      0.00      0.00         4\n",
      "\n",
      "                           accuracy                           0.80     29776\n",
      "                          macro avg       0.83      0.53      0.60     29776\n",
      "                       weighted avg       0.88      0.80      0.80     29776\n",
      "\n"
     ]
    },
    {
     "name": "stderr",
     "output_type": "stream",
     "text": [
      "/opt/anaconda3/lib/python3.12/site-packages/sklearn/metrics/_classification.py:1531: UndefinedMetricWarning: Precision is ill-defined and being set to 0.0 in labels with no predicted samples. Use `zero_division` parameter to control this behavior.\n",
      "  _warn_prf(average, modifier, f\"{metric.capitalize()} is\", len(result))\n",
      "/opt/anaconda3/lib/python3.12/site-packages/sklearn/metrics/_classification.py:1531: UndefinedMetricWarning: Precision is ill-defined and being set to 0.0 in labels with no predicted samples. Use `zero_division` parameter to control this behavior.\n",
      "  _warn_prf(average, modifier, f\"{metric.capitalize()} is\", len(result))\n",
      "/opt/anaconda3/lib/python3.12/site-packages/sklearn/metrics/_classification.py:1531: UndefinedMetricWarning: Precision is ill-defined and being set to 0.0 in labels with no predicted samples. Use `zero_division` parameter to control this behavior.\n",
      "  _warn_prf(average, modifier, f\"{metric.capitalize()} is\", len(result))\n"
     ]
    }
   ],
   "source": [
    "logistic_model = LogisticRegression(max_iter=1000, random_state=42)\n",
    "\n",
    "# Train the model on the training data\n",
    "logistic_model.fit(X_train, y_train_encoded)\n",
    "\n",
    "# Make predictions on the validation set\n",
    "y_test_pred = logistic_model.predict(X_test)\n",
    "\n",
    "# Evaluate the model\n",
    "accuracy = accuracy_score(y_test_encoded, y_test_pred)\n",
    "print(f\"Validation Accuracy: {accuracy:.4f}\")\n",
    "\n",
    "present_classes = sorted(set(y_test_encoded))\n",
    "\n",
    "# Generate the classification report\n",
    "class_report = classification_report(\n",
    "    y_test_encoded, \n",
    "    y_test_pred, \n",
    "    labels=present_classes, \n",
    "    target_names=label_encoder.inverse_transform(present_classes)\n",
    ")\n",
    "print(\"Classification Report:\\n\")\n",
    "print(class_report)"
   ]
  },
  {
   "cell_type": "markdown",
   "metadata": {},
   "source": [
    "# Repeat for DNA models"
   ]
  },
  {
   "cell_type": "code",
   "execution_count": 32,
   "metadata": {},
   "outputs": [],
   "source": [
    "with open('lr_dna_feature_matrix.pkl', 'rb') as handle:\n",
    "    feature_matrix = pickle.load(handle)"
   ]
  },
  {
   "cell_type": "code",
   "execution_count": 33,
   "metadata": {},
   "outputs": [],
   "source": [
    "dna_data = pd.read_csv('all_df_v2.csv')\n",
    "uniprot_data = dna_data[dna_data['db'] == 'UNIPROT']"
   ]
  },
  {
   "cell_type": "code",
   "execution_count": 34,
   "metadata": {},
   "outputs": [],
   "source": [
    "def contains_invalid_dna_bases(sequence):\n",
    "    valid_bases = {'A', 'T', 'C', 'G'}\n",
    "    return any(base not in valid_bases for base in sequence.upper())\n",
    "\n",
    "uniprot_data = uniprot_data[~uniprot_data['dna_seq'].apply(contains_invalid_dna_bases)]"
   ]
  },
  {
   "cell_type": "code",
   "execution_count": 35,
   "metadata": {},
   "outputs": [],
   "source": [
    "X_train, X_test, y_train, y_test = train_test_split(feature_matrix, uniprot_data.type, test_size=0.3, random_state=123)\n",
    "\n",
    "label_encoder = LabelEncoder()\n",
    "y_train_encoded = label_encoder.fit_transform(y_train) \n",
    "y_test_encoded = label_encoder.transform(y_test)"
   ]
  },
  {
   "cell_type": "code",
   "execution_count": 36,
   "metadata": {},
   "outputs": [
    {
     "name": "stdout",
     "output_type": "stream",
     "text": [
      "Validation Accuracy: 0.8995\n",
      "Classification Report:\n",
      "\n",
      "                                     precision    recall  f1-score   support\n",
      "\n",
      "                     aminoglycoside       0.86      0.87      0.87       187\n",
      "                         bacitracin       0.93      0.93      0.93      1145\n",
      "                        beta_lactam       0.92      0.92      0.92      1044\n",
      "                    chloramphenicol       0.84      0.83      0.84       124\n",
      "                         fosfomycin       0.83      0.84      0.84        58\n",
      "                       glycopeptide       0.00      0.00      0.00         6\n",
      "macrolide-lincosamide-streptogramin       0.85      0.88      0.87       258\n",
      "                          multidrug       0.82      0.77      0.80        48\n",
      "                          mupirocin       0.00      0.00      0.00         1\n",
      "                          polymyxin       0.81      0.78      0.80       242\n",
      "                       tetracycline       0.00      0.00      0.00         1\n",
      "                       trimethoprim       1.00      1.00      1.00         1\n",
      "\n",
      "                           accuracy                           0.90      3115\n",
      "                          macro avg       0.66      0.65      0.65      3115\n",
      "                       weighted avg       0.90      0.90      0.90      3115\n",
      "\n"
     ]
    },
    {
     "name": "stderr",
     "output_type": "stream",
     "text": [
      "/opt/anaconda3/lib/python3.12/site-packages/sklearn/metrics/_classification.py:1531: UndefinedMetricWarning: Precision is ill-defined and being set to 0.0 in labels with no predicted samples. Use `zero_division` parameter to control this behavior.\n",
      "  _warn_prf(average, modifier, f\"{metric.capitalize()} is\", len(result))\n",
      "/opt/anaconda3/lib/python3.12/site-packages/sklearn/metrics/_classification.py:1531: UndefinedMetricWarning: Precision is ill-defined and being set to 0.0 in labels with no predicted samples. Use `zero_division` parameter to control this behavior.\n",
      "  _warn_prf(average, modifier, f\"{metric.capitalize()} is\", len(result))\n",
      "/opt/anaconda3/lib/python3.12/site-packages/sklearn/metrics/_classification.py:1531: UndefinedMetricWarning: Precision is ill-defined and being set to 0.0 in labels with no predicted samples. Use `zero_division` parameter to control this behavior.\n",
      "  _warn_prf(average, modifier, f\"{metric.capitalize()} is\", len(result))\n"
     ]
    }
   ],
   "source": [
    "logistic_model = LogisticRegression(max_iter=1000, random_state=42)\n",
    "\n",
    "# Train the model on the training data\n",
    "logistic_model.fit(X_train, y_train_encoded)\n",
    "\n",
    "# Make predictions on the validation set\n",
    "y_test_pred = logistic_model.predict(X_test)\n",
    "\n",
    "# Evaluate the model\n",
    "accuracy = accuracy_score(y_test_encoded, y_test_pred)\n",
    "print(f\"Validation Accuracy: {accuracy:.4f}\")\n",
    "\n",
    "present_classes = sorted(set(y_test_encoded))\n",
    "\n",
    "# Generate the classification report\n",
    "class_report = classification_report(\n",
    "    y_test_encoded, \n",
    "    y_test_pred, \n",
    "    labels=present_classes, \n",
    "    target_names=label_encoder.inverse_transform(present_classes)\n",
    ")\n",
    "print(\"Classification Report:\\n\")\n",
    "print(class_report)"
   ]
  },
  {
   "cell_type": "code",
   "execution_count": null,
   "metadata": {},
   "outputs": [],
   "source": []
  },
  {
   "cell_type": "code",
   "execution_count": null,
   "metadata": {},
   "outputs": [],
   "source": []
  },
  {
   "cell_type": "code",
   "execution_count": null,
   "metadata": {},
   "outputs": [],
   "source": []
  },
  {
   "cell_type": "code",
   "execution_count": 37,
   "metadata": {},
   "outputs": [],
   "source": [
    "with open('sr_dna_feature_matrix.pkl', 'rb') as handle:\n",
    "    feature_matrix = pickle.load(handle)"
   ]
  },
  {
   "cell_type": "code",
   "execution_count": 38,
   "metadata": {},
   "outputs": [],
   "source": [
    "def split_to_short_reads(fasta_file, output_file, read_length=100):\n",
    "    short_reads = []\n",
    "    read_ids = []\n",
    "    types = []\n",
    "    for record in SeqIO.parse(fasta_file, \"fasta\"):\n",
    "        sequence = str(record.seq)\n",
    "        arg_type = '_'.join(record.id.split('_')[1:])\n",
    "        # Generate short reads\n",
    "        for i in range(0, len(sequence), read_length):\n",
    "            if i + read_length <= len(sequence):  # Ensure we don't exceed the sequence length\n",
    "                short_read = Seq(sequence[i:i + read_length])\n",
    "                read_id = f\"{record.id}_pos_{i}\"\n",
    "                short_reads.append(SeqRecord(short_read, id=read_id, description=\"\"))\n",
    "                read_ids.append(read_id)\n",
    "                types.append(arg_type)\n",
    "\n",
    "    # Write the short reads to a new fasta file\n",
    "    SeqIO.write(short_reads, output_file, \"fasta\")\n",
    "    return short_reads,read_ids,types\n",
    "\n",
    "input_fasta = \"uniprot_dna_sequences.fasta\"\n",
    "output_fasta = \"dna_short_reads.fasta\"\n",
    "short_reads,read_ids,types = split_to_short_reads(input_fasta, output_fasta)"
   ]
  },
  {
   "cell_type": "code",
   "execution_count": 39,
   "metadata": {},
   "outputs": [],
   "source": [
    "X_train, X_test, y_train, y_test = train_test_split(feature_matrix, types, test_size=0.3, random_state=123)\n",
    "\n",
    "label_encoder = LabelEncoder()\n",
    "y_train_encoded = label_encoder.fit_transform(y_train) \n",
    "y_test_encoded = label_encoder.transform(y_test)"
   ]
  },
  {
   "cell_type": "code",
   "execution_count": 40,
   "metadata": {},
   "outputs": [
    {
     "name": "stdout",
     "output_type": "stream",
     "text": [
      "Validation Accuracy: 0.7083\n",
      "Classification Report:\n",
      "\n",
      "                                     precision    recall  f1-score   support\n",
      "\n",
      "                     aminoglycoside       0.92      0.56      0.69      1161\n",
      "                         bacitracin       0.56      0.93      0.70      9415\n",
      "                        beta_lactam       0.92      0.69      0.79      9351\n",
      "                    chloramphenicol       0.82      0.40      0.53       761\n",
      "                         fosfomycin       0.87      0.52      0.65       307\n",
      "                       glycopeptide       1.00      0.06      0.12        32\n",
      "macrolide-lincosamide-streptogramin       0.82      0.40      0.53      3897\n",
      "                          multidrug       0.80      0.64      0.71       501\n",
      "                          mupirocin       1.00      0.03      0.06        31\n",
      "                          polymyxin       0.81      0.66      0.73      3370\n",
      "                          quinolone       0.00      0.00      0.00         5\n",
      "                        sulfonamide       0.00      0.00      0.00         2\n",
      "                       tetracycline       1.00      0.50      0.67         6\n",
      "                       trimethoprim       0.00      0.00      0.00         5\n",
      "\n",
      "                           accuracy                           0.71     28844\n",
      "                          macro avg       0.68      0.39      0.44     28844\n",
      "                       weighted avg       0.77      0.71      0.70     28844\n",
      "\n"
     ]
    },
    {
     "name": "stderr",
     "output_type": "stream",
     "text": [
      "/opt/anaconda3/lib/python3.12/site-packages/sklearn/metrics/_classification.py:1531: UndefinedMetricWarning: Precision is ill-defined and being set to 0.0 in labels with no predicted samples. Use `zero_division` parameter to control this behavior.\n",
      "  _warn_prf(average, modifier, f\"{metric.capitalize()} is\", len(result))\n",
      "/opt/anaconda3/lib/python3.12/site-packages/sklearn/metrics/_classification.py:1531: UndefinedMetricWarning: Precision is ill-defined and being set to 0.0 in labels with no predicted samples. Use `zero_division` parameter to control this behavior.\n",
      "  _warn_prf(average, modifier, f\"{metric.capitalize()} is\", len(result))\n",
      "/opt/anaconda3/lib/python3.12/site-packages/sklearn/metrics/_classification.py:1531: UndefinedMetricWarning: Precision is ill-defined and being set to 0.0 in labels with no predicted samples. Use `zero_division` parameter to control this behavior.\n",
      "  _warn_prf(average, modifier, f\"{metric.capitalize()} is\", len(result))\n"
     ]
    }
   ],
   "source": [
    "logistic_model = LogisticRegression(max_iter=1000, random_state=42)\n",
    "\n",
    "# Train the model on the training data\n",
    "logistic_model.fit(X_train, y_train_encoded)\n",
    "\n",
    "# Make predictions on the validation set\n",
    "y_test_pred = logistic_model.predict(X_test)\n",
    "\n",
    "# Evaluate the model\n",
    "accuracy = accuracy_score(y_test_encoded, y_test_pred)\n",
    "print(f\"Validation Accuracy: {accuracy:.4f}\")\n",
    "\n",
    "present_classes = sorted(set(y_test_encoded))\n",
    "\n",
    "# Generate the classification report\n",
    "class_report = classification_report(\n",
    "    y_test_encoded, \n",
    "    y_test_pred, \n",
    "    labels=present_classes, \n",
    "    target_names=label_encoder.inverse_transform(present_classes)\n",
    ")\n",
    "print(\"Classification Report:\\n\")\n",
    "print(class_report)"
   ]
  },
  {
   "cell_type": "code",
   "execution_count": null,
   "metadata": {},
   "outputs": [],
   "source": []
  },
  {
   "cell_type": "code",
   "execution_count": null,
   "metadata": {},
   "outputs": [],
   "source": []
  },
  {
   "cell_type": "code",
   "execution_count": null,
   "metadata": {},
   "outputs": [],
   "source": []
  },
  {
   "cell_type": "code",
   "execution_count": null,
   "metadata": {},
   "outputs": [],
   "source": []
  }
 ],
 "metadata": {
  "kernelspec": {
   "display_name": "base",
   "language": "python",
   "name": "python3"
  },
  "language_info": {
   "codemirror_mode": {
    "name": "ipython",
    "version": 3
   },
   "file_extension": ".py",
   "mimetype": "text/x-python",
   "name": "python",
   "nbconvert_exporter": "python",
   "pygments_lexer": "ipython3",
   "version": "3.12.2"
  }
 },
 "nbformat": 4,
 "nbformat_minor": 2
}
